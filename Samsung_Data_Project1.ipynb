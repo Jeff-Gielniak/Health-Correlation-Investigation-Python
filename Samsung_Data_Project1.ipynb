{
 "cells": [
  {
   "cell_type": "code",
   "execution_count": 1,
   "metadata": {},
   "outputs": [],
   "source": [
    "import pandas as pd\n",
    "import csv"
   ]
  },
  {
   "cell_type": "code",
   "execution_count": 2,
   "metadata": {},
   "outputs": [
    {
     "name": "stdout",
     "output_type": "stream",
     "text": [
      "          date  step_count  mood  calories_burned  hours_of_sleep  \\\n",
      "0   2017-10-06        5464   200              181               5   \n",
      "1   2017-10-07        6041   100              197               8   \n",
      "2   2017-10-08          25   100                0               5   \n",
      "3   2017-10-09        5461   100              174               4   \n",
      "4   2017-10-10        6915   200              223               5   \n",
      "..         ...         ...   ...              ...             ...   \n",
      "91  2018-01-05         133   100                4               2   \n",
      "92  2018-01-06         153   300                0               8   \n",
      "93  2018-01-07         500   200                0               5   \n",
      "94  2018-01-08        2127   200                0               5   \n",
      "95  2018-01-09        2203   300                0               5   \n",
      "\n",
      "    bool_of_active  weight_kg  \n",
      "0                0         66  \n",
      "1                0         66  \n",
      "2                0         66  \n",
      "3                0         66  \n",
      "4              500         66  \n",
      "..             ...        ...  \n",
      "91               0         64  \n",
      "92               0         64  \n",
      "93             500         64  \n",
      "94               0         64  \n",
      "95             500         64  \n",
      "\n",
      "[96 rows x 7 columns]\n"
     ]
    }
   ],
   "source": [
    "# Specify the path to your CSV file\n",
    "csvpath = 'Resources/25.csv'\n",
    "\n",
    "# Read the CSV file into a DataFrame\n",
    "data = pd.read_csv(csvpath)\n",
    "\n",
    "# Display the DataFrame\n",
    "print(data)"
   ]
  }
 ],
 "metadata": {
  "kernelspec": {
   "display_name": "base",
   "language": "python",
   "name": "python3"
  },
  "language_info": {
   "codemirror_mode": {
    "name": "ipython",
    "version": 3
   },
   "file_extension": ".py",
   "mimetype": "text/x-python",
   "name": "python",
   "nbconvert_exporter": "python",
   "pygments_lexer": "ipython3",
   "version": "3.12.7"
  }
 },
 "nbformat": 4,
 "nbformat_minor": 2
}
